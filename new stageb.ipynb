{
  "cells": [
    {
      "cell_type": "code",
      "execution_count": 1,
      "metadata": {
        "colab": {
          "base_uri": "https://localhost:8080/"
        },
        "id": "sOBxIUwSNVkS",
        "outputId": "88c3af31-fd5e-4b96-a60f-5ce5a71ce253"
      },
      "outputs": [],
      "source": [
        "import numpy as np\n",
        "import pandas as pd\n",
        "pd.set_option(\"display.max.columns\", None)\n",
        "pd.set_option(\"display.max_colwidth\", None)\n",
        "\n",
        "import matplotlib.pyplot as plt\n",
        "import seaborn as sns\n",
        "%matplotlib inline\n",
        "plt.style.use(\"ggplot\")\n",
        "\n",
        "from sklearn.model_selection import train_test_split\n",
        "from sklearn.preprocessing import MinMaxScaler\n",
        "from sklearn.linear_model import (LinearRegression, \n",
        "                                  Ridge, \n",
        "                                  Lasso)\n",
        "from sklearn.metrics import (r2_score, \n",
        "                             mean_absolute_error, \n",
        "                             mean_squared_error)"
      ]
    },
    {
      "cell_type": "code",
      "execution_count": 2,
      "metadata": {
        "id": "ZZKXF263MXTX"
      },
      "outputs": [],
      "source": [
        "df = pd.read_csv('energydata.csv')\n",
        "\n",
        "# df.to_csv('energydata.csv')"
      ]
    },
    {
      "cell_type": "code",
      "execution_count": null,
      "metadata": {},
      "outputs": [],
      "source": [
        "df.describe()"
      ]
    },
    {
      "cell_type": "code",
      "execution_count": null,
      "metadata": {},
      "outputs": [],
      "source": [
        "features_df = df.drop(columns=['Appliances'])\n",
        "df_target = df.Appliances\n",
        "X_train, X_test, y_train, y_test = train_test_split(features_df, df_target, test_size=.3, random_state=42)"
      ]
    },
    {
      "cell_type": "code",
      "execution_count": null,
      "metadata": {},
      "outputs": [],
      "source": [
        "lin_reg = LinearRegression()\n",
        "lin_reg.fit(X_train[['T2']], X_train.T6)\n",
        "T6_pred = lin_reg.predict(X_test[['T2']])"
      ]
    },
    {
      "cell_type": "code",
      "execution_count": null,
      "metadata": {},
      "outputs": [],
      "source": [
        "print(f'r^2 score: {round(r2_score(X_test.T6, T6_pred), 2)}')"
      ]
    },
    {
      "cell_type": "code",
      "execution_count": 3,
      "metadata": {},
      "outputs": [],
      "source": [
        "# Normalise dataset\n",
        "scaler = MinMaxScaler()\n",
        "normalised_df = pd.DataFrame(scaler.fit_transform(df.drop(columns=['date', 'lights'])), \n",
        "                             columns=df.drop(columns=['date', 'lights']).columns)\n",
        "features_df = normalised_df.drop(columns=['Appliances'])\n",
        "df_target = normalised_df.Appliances\n",
        "X_train, X_test, y_train, y_test = train_test_split(features_df, df_target, test_size=.30, random_state=42)"
      ]
    },
    {
      "cell_type": "code",
      "execution_count": 5,
      "metadata": {},
      "outputs": [],
      "source": [
        "# Retrain model\n",
        "lin_reg = LinearRegression()\n",
        "lin_reg.fit(X_train[['T2']], X_train.T6)\n",
        "T6_pred = lin_reg.predict(X_test[['T2']])"
      ]
    },
    {
      "cell_type": "code",
      "execution_count": 6,
      "metadata": {},
      "outputs": [
        {
          "name": "stdout",
          "output_type": "stream",
          "text": [
            "MAE: 0.08\n"
          ]
        }
      ],
      "source": [
        "print(f'MAE: {round(mean_absolute_error(X_test.T6, T6_pred), 2)}')"
      ]
    },
    {
      "cell_type": "code",
      "execution_count": 7,
      "metadata": {},
      "outputs": [
        {
          "name": "stdout",
          "output_type": "stream",
          "text": [
            "Residual Sum of Squares: 66.12\n"
          ]
        }
      ],
      "source": [
        "print(f'Residual Sum of Squares: {round(np.sum(np.square(X_test.T6 - T6_pred)), 2)}')"
      ]
    }
  ],
  "metadata": {
    "colab": {
      "name": "Stage B Quiz.ipynb",
      "provenance": []
    },
    "kernelspec": {
      "display_name": "Python 3.9.12 ('base')",
      "language": "python",
      "name": "python3"
    },
    "language_info": {
      "codemirror_mode": {
        "name": "ipython",
        "version": 3
      },
      "file_extension": ".py",
      "mimetype": "text/x-python",
      "name": "python",
      "nbconvert_exporter": "python",
      "pygments_lexer": "ipython3",
      "version": "3.9.12"
    },
    "vscode": {
      "interpreter": {
        "hash": "d2777779a8d9e5a1ecd4b4eba38155500849100d68fa1d10753a1121e46865b4"
      }
    }
  },
  "nbformat": 4,
  "nbformat_minor": 0
}
